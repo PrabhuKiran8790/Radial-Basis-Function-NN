{
 "cells": [
  {
   "cell_type": "code",
   "execution_count": 1,
   "metadata": {},
   "outputs": [],
   "source": [
    "import pickle\n",
    "import pandas as pd\n",
    "import numpy as np"
   ]
  },
  {
   "cell_type": "code",
   "execution_count": 2,
   "metadata": {},
   "outputs": [
    {
     "data": {
      "text/html": [
       "<div>\n",
       "<style scoped>\n",
       "    .dataframe tbody tr th:only-of-type {\n",
       "        vertical-align: middle;\n",
       "    }\n",
       "\n",
       "    .dataframe tbody tr th {\n",
       "        vertical-align: top;\n",
       "    }\n",
       "\n",
       "    .dataframe thead th {\n",
       "        text-align: right;\n",
       "    }\n",
       "</style>\n",
       "<table border=\"1\" class=\"dataframe\">\n",
       "  <thead>\n",
       "    <tr style=\"text-align: right;\">\n",
       "      <th></th>\n",
       "      <th>T-1</th>\n",
       "      <th>T-24</th>\n",
       "      <th>H-1</th>\n",
       "      <th>H-24</th>\n",
       "      <th>Season</th>\n",
       "      <th>T</th>\n",
       "    </tr>\n",
       "  </thead>\n",
       "  <tbody>\n",
       "    <tr>\n",
       "      <th>0</th>\n",
       "      <td>62.0</td>\n",
       "      <td>65.0</td>\n",
       "      <td>89.0</td>\n",
       "      <td>90.0</td>\n",
       "      <td>1.0</td>\n",
       "      <td>65.0</td>\n",
       "    </tr>\n",
       "    <tr>\n",
       "      <th>1</th>\n",
       "      <td>65.0</td>\n",
       "      <td>65.0</td>\n",
       "      <td>90.0</td>\n",
       "      <td>90.0</td>\n",
       "      <td>1.0</td>\n",
       "      <td>65.0</td>\n",
       "    </tr>\n",
       "    <tr>\n",
       "      <th>2</th>\n",
       "      <td>65.0</td>\n",
       "      <td>65.0</td>\n",
       "      <td>90.0</td>\n",
       "      <td>90.0</td>\n",
       "      <td>1.0</td>\n",
       "      <td>65.0</td>\n",
       "    </tr>\n",
       "    <tr>\n",
       "      <th>3</th>\n",
       "      <td>65.0</td>\n",
       "      <td>78.0</td>\n",
       "      <td>90.0</td>\n",
       "      <td>49.0</td>\n",
       "      <td>1.0</td>\n",
       "      <td>78.0</td>\n",
       "    </tr>\n",
       "    <tr>\n",
       "      <th>4</th>\n",
       "      <td>78.0</td>\n",
       "      <td>78.0</td>\n",
       "      <td>48.0</td>\n",
       "      <td>49.0</td>\n",
       "      <td>1.0</td>\n",
       "      <td>78.0</td>\n",
       "    </tr>\n",
       "    <tr>\n",
       "      <th>...</th>\n",
       "      <td>...</td>\n",
       "      <td>...</td>\n",
       "      <td>...</td>\n",
       "      <td>...</td>\n",
       "      <td>...</td>\n",
       "      <td>...</td>\n",
       "    </tr>\n",
       "    <tr>\n",
       "      <th>8731</th>\n",
       "      <td>67.0</td>\n",
       "      <td>69.0</td>\n",
       "      <td>92.0</td>\n",
       "      <td>88.0</td>\n",
       "      <td>1.0</td>\n",
       "      <td>67.0</td>\n",
       "    </tr>\n",
       "    <tr>\n",
       "      <th>8732</th>\n",
       "      <td>67.0</td>\n",
       "      <td>69.0</td>\n",
       "      <td>92.0</td>\n",
       "      <td>88.0</td>\n",
       "      <td>1.0</td>\n",
       "      <td>67.0</td>\n",
       "    </tr>\n",
       "    <tr>\n",
       "      <th>8733</th>\n",
       "      <td>67.0</td>\n",
       "      <td>65.0</td>\n",
       "      <td>92.0</td>\n",
       "      <td>94.0</td>\n",
       "      <td>1.0</td>\n",
       "      <td>65.0</td>\n",
       "    </tr>\n",
       "    <tr>\n",
       "      <th>8734</th>\n",
       "      <td>65.0</td>\n",
       "      <td>65.0</td>\n",
       "      <td>94.0</td>\n",
       "      <td>94.0</td>\n",
       "      <td>1.0</td>\n",
       "      <td>65.0</td>\n",
       "    </tr>\n",
       "    <tr>\n",
       "      <th>8735</th>\n",
       "      <td>65.0</td>\n",
       "      <td>65.0</td>\n",
       "      <td>94.0</td>\n",
       "      <td>94.0</td>\n",
       "      <td>1.0</td>\n",
       "      <td>65.0</td>\n",
       "    </tr>\n",
       "  </tbody>\n",
       "</table>\n",
       "<p>8736 rows × 6 columns</p>\n",
       "</div>"
      ],
      "text/plain": [
       "       T-1  T-24   H-1  H-24  Season     T\n",
       "0     62.0  65.0  89.0  90.0     1.0  65.0\n",
       "1     65.0  65.0  90.0  90.0     1.0  65.0\n",
       "2     65.0  65.0  90.0  90.0     1.0  65.0\n",
       "3     65.0  78.0  90.0  49.0     1.0  78.0\n",
       "4     78.0  78.0  48.0  49.0     1.0  78.0\n",
       "...    ...   ...   ...   ...     ...   ...\n",
       "8731  67.0  69.0  92.0  88.0     1.0  67.0\n",
       "8732  67.0  69.0  92.0  88.0     1.0  67.0\n",
       "8733  67.0  65.0  92.0  94.0     1.0  65.0\n",
       "8734  65.0  65.0  94.0  94.0     1.0  65.0\n",
       "8735  65.0  65.0  94.0  94.0     1.0  65.0\n",
       "\n",
       "[8736 rows x 6 columns]"
      ]
     },
     "execution_count": 2,
     "metadata": {},
     "output_type": "execute_result"
    }
   ],
   "source": [
    "data = pd.read_csv('modified_data_temp_df.csv', index_col=0)\n",
    "data"
   ]
  },
  {
   "cell_type": "code",
   "execution_count": 3,
   "metadata": {},
   "outputs": [
    {
     "data": {
      "text/html": [
       "<div>\n",
       "<style scoped>\n",
       "    .dataframe tbody tr th:only-of-type {\n",
       "        vertical-align: middle;\n",
       "    }\n",
       "\n",
       "    .dataframe tbody tr th {\n",
       "        vertical-align: top;\n",
       "    }\n",
       "\n",
       "    .dataframe thead th {\n",
       "        text-align: right;\n",
       "    }\n",
       "</style>\n",
       "<table border=\"1\" class=\"dataframe\">\n",
       "  <thead>\n",
       "    <tr style=\"text-align: right;\">\n",
       "      <th></th>\n",
       "      <th>T-1</th>\n",
       "      <th>T-24</th>\n",
       "      <th>H-1</th>\n",
       "      <th>H-24</th>\n",
       "      <th>Season</th>\n",
       "    </tr>\n",
       "  </thead>\n",
       "  <tbody>\n",
       "    <tr>\n",
       "      <th>0</th>\n",
       "      <td>62.0</td>\n",
       "      <td>65.0</td>\n",
       "      <td>89.0</td>\n",
       "      <td>90.0</td>\n",
       "      <td>1.0</td>\n",
       "    </tr>\n",
       "    <tr>\n",
       "      <th>1</th>\n",
       "      <td>65.0</td>\n",
       "      <td>65.0</td>\n",
       "      <td>90.0</td>\n",
       "      <td>90.0</td>\n",
       "      <td>1.0</td>\n",
       "    </tr>\n",
       "    <tr>\n",
       "      <th>2</th>\n",
       "      <td>65.0</td>\n",
       "      <td>65.0</td>\n",
       "      <td>90.0</td>\n",
       "      <td>90.0</td>\n",
       "      <td>1.0</td>\n",
       "    </tr>\n",
       "    <tr>\n",
       "      <th>3</th>\n",
       "      <td>65.0</td>\n",
       "      <td>78.0</td>\n",
       "      <td>90.0</td>\n",
       "      <td>49.0</td>\n",
       "      <td>1.0</td>\n",
       "    </tr>\n",
       "    <tr>\n",
       "      <th>4</th>\n",
       "      <td>78.0</td>\n",
       "      <td>78.0</td>\n",
       "      <td>48.0</td>\n",
       "      <td>49.0</td>\n",
       "      <td>1.0</td>\n",
       "    </tr>\n",
       "    <tr>\n",
       "      <th>...</th>\n",
       "      <td>...</td>\n",
       "      <td>...</td>\n",
       "      <td>...</td>\n",
       "      <td>...</td>\n",
       "      <td>...</td>\n",
       "    </tr>\n",
       "    <tr>\n",
       "      <th>8731</th>\n",
       "      <td>67.0</td>\n",
       "      <td>69.0</td>\n",
       "      <td>92.0</td>\n",
       "      <td>88.0</td>\n",
       "      <td>1.0</td>\n",
       "    </tr>\n",
       "    <tr>\n",
       "      <th>8732</th>\n",
       "      <td>67.0</td>\n",
       "      <td>69.0</td>\n",
       "      <td>92.0</td>\n",
       "      <td>88.0</td>\n",
       "      <td>1.0</td>\n",
       "    </tr>\n",
       "    <tr>\n",
       "      <th>8733</th>\n",
       "      <td>67.0</td>\n",
       "      <td>65.0</td>\n",
       "      <td>92.0</td>\n",
       "      <td>94.0</td>\n",
       "      <td>1.0</td>\n",
       "    </tr>\n",
       "    <tr>\n",
       "      <th>8734</th>\n",
       "      <td>65.0</td>\n",
       "      <td>65.0</td>\n",
       "      <td>94.0</td>\n",
       "      <td>94.0</td>\n",
       "      <td>1.0</td>\n",
       "    </tr>\n",
       "    <tr>\n",
       "      <th>8735</th>\n",
       "      <td>65.0</td>\n",
       "      <td>65.0</td>\n",
       "      <td>94.0</td>\n",
       "      <td>94.0</td>\n",
       "      <td>1.0</td>\n",
       "    </tr>\n",
       "  </tbody>\n",
       "</table>\n",
       "<p>8736 rows × 5 columns</p>\n",
       "</div>"
      ],
      "text/plain": [
       "       T-1  T-24   H-1  H-24  Season\n",
       "0     62.0  65.0  89.0  90.0     1.0\n",
       "1     65.0  65.0  90.0  90.0     1.0\n",
       "2     65.0  65.0  90.0  90.0     1.0\n",
       "3     65.0  78.0  90.0  49.0     1.0\n",
       "4     78.0  78.0  48.0  49.0     1.0\n",
       "...    ...   ...   ...   ...     ...\n",
       "8731  67.0  69.0  92.0  88.0     1.0\n",
       "8732  67.0  69.0  92.0  88.0     1.0\n",
       "8733  67.0  65.0  92.0  94.0     1.0\n",
       "8734  65.0  65.0  94.0  94.0     1.0\n",
       "8735  65.0  65.0  94.0  94.0     1.0\n",
       "\n",
       "[8736 rows x 5 columns]"
      ]
     },
     "execution_count": 3,
     "metadata": {},
     "output_type": "execute_result"
    }
   ],
   "source": [
    "x_data = data[data.columns[:5]]\n",
    "x_data"
   ]
  },
  {
   "cell_type": "code",
   "execution_count": 4,
   "metadata": {},
   "outputs": [
    {
     "data": {
      "text/html": [
       "<div>\n",
       "<style scoped>\n",
       "    .dataframe tbody tr th:only-of-type {\n",
       "        vertical-align: middle;\n",
       "    }\n",
       "\n",
       "    .dataframe tbody tr th {\n",
       "        vertical-align: top;\n",
       "    }\n",
       "\n",
       "    .dataframe thead th {\n",
       "        text-align: right;\n",
       "    }\n",
       "</style>\n",
       "<table border=\"1\" class=\"dataframe\">\n",
       "  <thead>\n",
       "    <tr style=\"text-align: right;\">\n",
       "      <th></th>\n",
       "      <th>T</th>\n",
       "    </tr>\n",
       "  </thead>\n",
       "  <tbody>\n",
       "    <tr>\n",
       "      <th>0</th>\n",
       "      <td>65.0</td>\n",
       "    </tr>\n",
       "    <tr>\n",
       "      <th>1</th>\n",
       "      <td>65.0</td>\n",
       "    </tr>\n",
       "    <tr>\n",
       "      <th>2</th>\n",
       "      <td>65.0</td>\n",
       "    </tr>\n",
       "    <tr>\n",
       "      <th>3</th>\n",
       "      <td>78.0</td>\n",
       "    </tr>\n",
       "    <tr>\n",
       "      <th>4</th>\n",
       "      <td>78.0</td>\n",
       "    </tr>\n",
       "    <tr>\n",
       "      <th>...</th>\n",
       "      <td>...</td>\n",
       "    </tr>\n",
       "    <tr>\n",
       "      <th>8731</th>\n",
       "      <td>67.0</td>\n",
       "    </tr>\n",
       "    <tr>\n",
       "      <th>8732</th>\n",
       "      <td>67.0</td>\n",
       "    </tr>\n",
       "    <tr>\n",
       "      <th>8733</th>\n",
       "      <td>65.0</td>\n",
       "    </tr>\n",
       "    <tr>\n",
       "      <th>8734</th>\n",
       "      <td>65.0</td>\n",
       "    </tr>\n",
       "    <tr>\n",
       "      <th>8735</th>\n",
       "      <td>65.0</td>\n",
       "    </tr>\n",
       "  </tbody>\n",
       "</table>\n",
       "<p>8736 rows × 1 columns</p>\n",
       "</div>"
      ],
      "text/plain": [
       "         T\n",
       "0     65.0\n",
       "1     65.0\n",
       "2     65.0\n",
       "3     78.0\n",
       "4     78.0\n",
       "...    ...\n",
       "8731  67.0\n",
       "8732  67.0\n",
       "8733  65.0\n",
       "8734  65.0\n",
       "8735  65.0\n",
       "\n",
       "[8736 rows x 1 columns]"
      ]
     },
     "execution_count": 4,
     "metadata": {},
     "output_type": "execute_result"
    }
   ],
   "source": [
    "y_data = data[['T']]\n",
    "y_data"
   ]
  },
  {
   "cell_type": "code",
   "execution_count": 5,
   "metadata": {},
   "outputs": [
    {
     "data": {
      "text/plain": [
       "array([[0.20689655, 0.25862069, 0.85227273, 0.86363636, 0.5       ],\n",
       "       [0.25862069, 0.25862069, 0.86363636, 0.86363636, 0.5       ],\n",
       "       [0.25862069, 0.25862069, 0.86363636, 0.86363636, 0.5       ],\n",
       "       ...,\n",
       "       [0.29310345, 0.25862069, 0.88636364, 0.90909091, 0.5       ],\n",
       "       [0.25862069, 0.25862069, 0.90909091, 0.90909091, 0.5       ],\n",
       "       [0.25862069, 0.25862069, 0.90909091, 0.90909091, 0.5       ]])"
      ]
     },
     "execution_count": 5,
     "metadata": {},
     "output_type": "execute_result"
    }
   ],
   "source": [
    "from sklearn.preprocessing import MinMaxScaler\n",
    "\n",
    "x_scalar = MinMaxScaler()\n",
    "x_scalar.fit(x_data)\n",
    "x_data_scaled = x_scalar.fit_transform(x_data)\n",
    "x_data_scaled"
   ]
  },
  {
   "cell_type": "code",
   "execution_count": 6,
   "metadata": {},
   "outputs": [
    {
     "data": {
      "text/plain": [
       "array([[0.25862069],\n",
       "       [0.25862069],\n",
       "       [0.25862069],\n",
       "       ...,\n",
       "       [0.25862069],\n",
       "       [0.25862069],\n",
       "       [0.25862069]])"
      ]
     },
     "execution_count": 6,
     "metadata": {},
     "output_type": "execute_result"
    }
   ],
   "source": [
    "y_scalar = MinMaxScaler()\n",
    "y_scalar.fit(y_data)\n",
    "y_data_scaled = y_scalar.fit_transform(y_data)\n",
    "y_data_scaled"
   ]
  },
  {
   "cell_type": "code",
   "execution_count": 7,
   "metadata": {},
   "outputs": [],
   "source": [
    "from sklearn.model_selection import train_test_split\n",
    "\n",
    "X_train, X_test, y_train, y_test = train_test_split(x_data_scaled, y_data_scaled, test_size=0.33, random_state=42)"
   ]
  },
  {
   "cell_type": "code",
   "execution_count": 8,
   "metadata": {},
   "outputs": [],
   "source": [
    "from sklearn.cluster import KMeans\n",
    "import joblib as jbl\n",
    "import numpy as np\n",
    "import tensorflow as tf\n",
    "\n",
    "class RBFNet:\n",
    "    def __init__(self, X, y, X_test, y_test, n_hidden_neurons, width_factor) -> None:\n",
    "        self.X = X\n",
    "        self.y = y\n",
    "        self.X_test = X_test\n",
    "        self.y_test = y_test\n",
    "        self.n_hidden = n_hidden_neurons\n",
    "        self.p = width_factor\n",
    "        \n",
    "        self._centroids = None\n",
    "        self._sigma_mat = None\n",
    "        self._out_mat = None\n",
    "        self._out_mat_test = None\n",
    "        \n",
    "    def KMeans(self):\n",
    "        km = KMeans(n_clusters=self.n_hidden).fit(self.X, self.y)\n",
    "        self._centroids = km.cluster_centers_\n",
    "        jbl.dump(km, \"kmeans.jbl\")\n",
    "        \n",
    "    def gaussian_rbf(self):\n",
    "        \n",
    "        def get_min_indices(x, n=2):\n",
    "            min_values = np.sort(x)[:n]\n",
    "            return np.array([np.where(x == i)[0][0] for i in min_values])\n",
    "        \n",
    "        distance_mat = np.zeros((self.n_hidden, self.n_hidden))\n",
    "        sigma_mat = np.zeros(self.n_hidden)\n",
    "        \n",
    "        # distance matrix calculation\n",
    "        for i in range(self.n_hidden):\n",
    "            for j in range(self.n_hidden):\n",
    "                distance_mat[i][j] = np.linalg.norm(self._centroids[i] - self._centroids[j])\n",
    "                distance_mat[j][i] = distance_mat[i][j]\n",
    "                \n",
    "        # calculating sigma matrix\n",
    "        for i in range(self.n_hidden):\n",
    "            x = distance_mat[i]\n",
    "            min_indices = get_min_indices(x, self.p)\n",
    "            \n",
    "            ED_array = np.zeros(self.p-1)\n",
    "            \n",
    "            for j in range(len(ED_array)):\n",
    "                ED_array[j] = np.linalg.norm(self._centroids[i] - self._centroids[min_indices[j+1]])\n",
    "            sigma_mat[i] = np.sqrt(np.square(ED_array).sum() / self.p)\n",
    "            \n",
    "        self._sigma_mat = sigma_mat\n",
    "        self._out_mat = self.out_matrix(self.X, self.n_hidden, self._centroids, self._sigma_mat)\n",
    "        self._out_mat_test = self.out_matrix(self.X_test, self.n_hidden, self._centroids, self._sigma_mat)\n",
    "                \n",
    "    def out_matrix(self, X, n_hidden, centroids, sigma_mat):\n",
    "        out_mat = np.zeros((X.shape[0], n_hidden))\n",
    "        for i in range(len(X)):\n",
    "            for j in range(n_hidden):\n",
    "                numerator = -np.square(X[i] - centroids[j]).sum()\n",
    "                denominator = 2*(np.square(sigma_mat[j]))\n",
    "                out_mat[i][j] = np.exp(numerator/denominator)\n",
    "        return out_mat"
   ]
  },
  {
   "cell_type": "code",
   "execution_count": 9,
   "metadata": {},
   "outputs": [],
   "source": [
    "rbf = RBFNet(X=X_train,\n",
    "             y=y_train,\n",
    "             X_test=X_test,\n",
    "             y_test=y_test,\n",
    "             n_hidden_neurons=4,\n",
    "             width_factor=2)"
   ]
  },
  {
   "cell_type": "code",
   "execution_count": 11,
   "metadata": {},
   "outputs": [],
   "source": [
    "rbf.KMeans()"
   ]
  },
  {
   "cell_type": "code",
   "execution_count": 12,
   "metadata": {},
   "outputs": [
    {
     "data": {
      "text/plain": [
       "array([[ 6.83356184e-01,  6.77484026e-01,  2.83221374e-01,\n",
       "         2.85668008e-01,  7.70442611e-01],\n",
       "       [ 5.53207920e-01,  5.53962827e-01,  7.17550442e-01,\n",
       "         7.18276753e-01, -1.38777878e-15],\n",
       "       [ 3.56442408e-01,  3.57969617e-01,  7.48083987e-01,\n",
       "         7.41329378e-01,  5.00000000e-01],\n",
       "       [ 5.56940831e-01,  5.56857807e-01,  6.31767109e-01,\n",
       "         6.32323435e-01,  1.00000000e+00]])"
      ]
     },
     "execution_count": 12,
     "metadata": {},
     "output_type": "execute_result"
    }
   ],
   "source": [
    "rbf._centroids"
   ]
  },
  {
   "cell_type": "code",
   "execution_count": 13,
   "metadata": {},
   "outputs": [],
   "source": [
    "rbf.gaussian_rbf()"
   ]
  },
  {
   "cell_type": "code",
   "execution_count": 14,
   "metadata": {},
   "outputs": [
    {
     "data": {
      "text/plain": [
       "(5853, 4)"
      ]
     },
     "execution_count": 14,
     "metadata": {},
     "output_type": "execute_result"
    }
   ],
   "source": [
    "rbf._out_mat.shape"
   ]
  },
  {
   "cell_type": "code",
   "execution_count": 15,
   "metadata": {},
   "outputs": [],
   "source": [
    "out_mat = rbf._out_mat\n",
    "out_mat_test = rbf._out_mat_test"
   ]
  },
  {
   "cell_type": "code",
   "execution_count": 16,
   "metadata": {},
   "outputs": [
    {
     "data": {
      "text/plain": [
       "(2883, 4)"
      ]
     },
     "execution_count": 16,
     "metadata": {},
     "output_type": "execute_result"
    }
   ],
   "source": [
    "out_mat_test.shape"
   ]
  },
  {
   "cell_type": "code",
   "execution_count": 17,
   "metadata": {},
   "outputs": [],
   "source": [
    "x_test_ann = rbf._out_mat_test\n",
    "x_train_ann = rbf._out_mat"
   ]
  },
  {
   "cell_type": "code",
   "execution_count": 18,
   "metadata": {},
   "outputs": [],
   "source": [
    "Sequential = tf.keras.Sequential\n",
    "Dense = tf.keras.layers.Dense"
   ]
  },
  {
   "cell_type": "code",
   "execution_count": 19,
   "metadata": {},
   "outputs": [
    {
     "name": "stdout",
     "output_type": "stream",
     "text": [
      "Metal device set to: Apple M1\n",
      "\n",
      "systemMemory: 8.00 GB\n",
      "maxCacheSize: 2.67 GB\n",
      "\n",
      "Model: \"sequential\"\n",
      "_________________________________________________________________\n",
      " Layer (type)                Output Shape              Param #   \n",
      "=================================================================\n",
      " dense (Dense)               (None, 1)                 5         \n",
      "                                                                 \n",
      "=================================================================\n",
      "Total params: 5\n",
      "Trainable params: 5\n",
      "Non-trainable params: 0\n",
      "_________________________________________________________________\n"
     ]
    },
    {
     "name": "stderr",
     "output_type": "stream",
     "text": [
      "2023-02-25 09:02:14.472824: I tensorflow/core/common_runtime/pluggable_device/pluggable_device_factory.cc:305] Could not identify NUMA node of platform GPU ID 0, defaulting to 0. Your kernel may not have been built with NUMA support.\n",
      "2023-02-25 09:02:14.472989: I tensorflow/core/common_runtime/pluggable_device/pluggable_device_factory.cc:271] Created TensorFlow device (/job:localhost/replica:0/task:0/device:GPU:0 with 0 MB memory) -> physical PluggableDevice (device: 0, name: METAL, pci bus id: <undefined>)\n"
     ]
    }
   ],
   "source": [
    "model = Sequential([\n",
    "    Dense(1, input_shape=(4, ), activation='linear')\n",
    "])\n",
    "\n",
    "model.summary()"
   ]
  },
  {
   "cell_type": "code",
   "execution_count": 20,
   "metadata": {},
   "outputs": [],
   "source": [
    "model.compile(tf.optimizers.Adam(learning_rate=0.1), loss=tf.losses.MeanSquaredError(), metrics=['mae'])"
   ]
  },
  {
   "cell_type": "code",
   "execution_count": 21,
   "metadata": {},
   "outputs": [
    {
     "name": "stdout",
     "output_type": "stream",
     "text": [
      "Epoch 1/100\n"
     ]
    },
    {
     "name": "stderr",
     "output_type": "stream",
     "text": [
      "2023-02-25 09:02:20.866185: W tensorflow/core/platform/profile_utils/cpu_utils.cc:128] Failed to get CPU frequency: 0 Hz\n"
     ]
    },
    {
     "name": "stdout",
     "output_type": "stream",
     "text": [
      "  1/183 [..............................] - ETA: 1:18 - loss: 1.4481 - mae: 1.1363"
     ]
    },
    {
     "name": "stderr",
     "output_type": "stream",
     "text": [
      "2023-02-25 09:02:21.154778: I tensorflow/core/grappler/optimizers/custom_graph_optimizer_registry.cc:113] Plugin optimizer for device_type GPU is enabled.\n"
     ]
    },
    {
     "name": "stdout",
     "output_type": "stream",
     "text": [
      "183/183 [==============================] - ETA: 0s - loss: 0.0424 - mae: 0.1156"
     ]
    },
    {
     "name": "stderr",
     "output_type": "stream",
     "text": [
      "2023-02-25 09:02:22.540897: I tensorflow/core/grappler/optimizers/custom_graph_optimizer_registry.cc:113] Plugin optimizer for device_type GPU is enabled.\n"
     ]
    },
    {
     "name": "stdout",
     "output_type": "stream",
     "text": [
      "183/183 [==============================] - 2s 9ms/step - loss: 0.0424 - mae: 0.1156 - val_loss: 0.0079 - val_mae: 0.0671\n",
      "Epoch 2/100\n",
      "183/183 [==============================] - 1s 7ms/step - loss: 0.0078 - mae: 0.0672 - val_loss: 0.0084 - val_mae: 0.0700\n",
      "Epoch 3/100\n",
      "183/183 [==============================] - 1s 8ms/step - loss: 0.0078 - mae: 0.0677 - val_loss: 0.0092 - val_mae: 0.0739\n",
      "Epoch 4/100\n",
      "183/183 [==============================] - 1s 7ms/step - loss: 0.0079 - mae: 0.0679 - val_loss: 0.0080 - val_mae: 0.0676\n",
      "Epoch 5/100\n",
      "183/183 [==============================] - 1s 7ms/step - loss: 0.0081 - mae: 0.0693 - val_loss: 0.0081 - val_mae: 0.0687\n",
      "Epoch 6/100\n",
      "183/183 [==============================] - 1s 7ms/step - loss: 0.0082 - mae: 0.0696 - val_loss: 0.0079 - val_mae: 0.0672\n",
      "Epoch 7/100\n",
      "183/183 [==============================] - 1s 7ms/step - loss: 0.0081 - mae: 0.0690 - val_loss: 0.0082 - val_mae: 0.0687\n",
      "Epoch 8/100\n",
      "183/183 [==============================] - 1s 8ms/step - loss: 0.0086 - mae: 0.0716 - val_loss: 0.0085 - val_mae: 0.0703\n",
      "Epoch 9/100\n",
      "183/183 [==============================] - 1s 7ms/step - loss: 0.0081 - mae: 0.0694 - val_loss: 0.0081 - val_mae: 0.0695\n",
      "Epoch 10/100\n",
      "183/183 [==============================] - 1s 7ms/step - loss: 0.0086 - mae: 0.0717 - val_loss: 0.0091 - val_mae: 0.0742\n",
      "Epoch 11/100\n",
      "183/183 [==============================] - 1s 8ms/step - loss: 0.0084 - mae: 0.0708 - val_loss: 0.0081 - val_mae: 0.0689\n",
      "Epoch 12/100\n",
      "183/183 [==============================] - 1s 8ms/step - loss: 0.0084 - mae: 0.0711 - val_loss: 0.0087 - val_mae: 0.0694\n",
      "Epoch 13/100\n",
      "183/183 [==============================] - 1s 7ms/step - loss: 0.0091 - mae: 0.0737 - val_loss: 0.0080 - val_mae: 0.0670\n",
      "Epoch 14/100\n",
      "183/183 [==============================] - 1s 7ms/step - loss: 0.0088 - mae: 0.0726 - val_loss: 0.0086 - val_mae: 0.0700\n",
      "Epoch 15/100\n",
      "183/183 [==============================] - 1s 7ms/step - loss: 0.0083 - mae: 0.0702 - val_loss: 0.0079 - val_mae: 0.0672\n",
      "Epoch 16/100\n",
      "183/183 [==============================] - 1s 7ms/step - loss: 0.0092 - mae: 0.0746 - val_loss: 0.0118 - val_mae: 0.0879\n",
      "Epoch 17/100\n",
      "183/183 [==============================] - 1s 7ms/step - loss: 0.0093 - mae: 0.0752 - val_loss: 0.0091 - val_mae: 0.0743\n",
      "Epoch 18/100\n",
      "183/183 [==============================] - 1s 7ms/step - loss: 0.0084 - mae: 0.0706 - val_loss: 0.0092 - val_mae: 0.0760\n",
      "Epoch 19/100\n",
      "183/183 [==============================] - 1s 7ms/step - loss: 0.0084 - mae: 0.0713 - val_loss: 0.0079 - val_mae: 0.0667\n",
      "Epoch 20/100\n",
      "183/183 [==============================] - 1s 7ms/step - loss: 0.0086 - mae: 0.0716 - val_loss: 0.0082 - val_mae: 0.0693\n",
      "Epoch 21/100\n",
      "183/183 [==============================] - 1s 7ms/step - loss: 0.0090 - mae: 0.0737 - val_loss: 0.0094 - val_mae: 0.0723\n",
      "Epoch 22/100\n",
      "183/183 [==============================] - 1s 8ms/step - loss: 0.0083 - mae: 0.0703 - val_loss: 0.0086 - val_mae: 0.0708\n",
      "Epoch 23/100\n",
      "183/183 [==============================] - 1s 7ms/step - loss: 0.0087 - mae: 0.0722 - val_loss: 0.0081 - val_mae: 0.0687\n",
      "Epoch 24/100\n",
      "183/183 [==============================] - 1s 7ms/step - loss: 0.0086 - mae: 0.0714 - val_loss: 0.0079 - val_mae: 0.0674\n",
      "Epoch 25/100\n",
      "183/183 [==============================] - 1s 7ms/step - loss: 0.0086 - mae: 0.0719 - val_loss: 0.0084 - val_mae: 0.0709\n",
      "Epoch 26/100\n",
      "183/183 [==============================] - 1s 7ms/step - loss: 0.0087 - mae: 0.0729 - val_loss: 0.0086 - val_mae: 0.0717\n",
      "Epoch 27/100\n",
      "183/183 [==============================] - 1s 7ms/step - loss: 0.0090 - mae: 0.0739 - val_loss: 0.0082 - val_mae: 0.0700\n",
      "Epoch 28/100\n",
      "183/183 [==============================] - 1s 7ms/step - loss: 0.0088 - mae: 0.0731 - val_loss: 0.0089 - val_mae: 0.0723\n",
      "Epoch 29/100\n",
      "183/183 [==============================] - 1s 7ms/step - loss: 0.0088 - mae: 0.0727 - val_loss: 0.0080 - val_mae: 0.0681\n",
      "Epoch 30/100\n",
      "183/183 [==============================] - 1s 8ms/step - loss: 0.0088 - mae: 0.0731 - val_loss: 0.0083 - val_mae: 0.0696\n",
      "Epoch 31/100\n",
      "183/183 [==============================] - 1s 7ms/step - loss: 0.0088 - mae: 0.0724 - val_loss: 0.0082 - val_mae: 0.0681\n",
      "Epoch 32/100\n",
      "183/183 [==============================] - 1s 8ms/step - loss: 0.0086 - mae: 0.0716 - val_loss: 0.0079 - val_mae: 0.0667\n",
      "Epoch 33/100\n",
      "183/183 [==============================] - 1s 7ms/step - loss: 0.0084 - mae: 0.0709 - val_loss: 0.0096 - val_mae: 0.0767\n",
      "Epoch 34/100\n",
      "183/183 [==============================] - 1s 7ms/step - loss: 0.0090 - mae: 0.0739 - val_loss: 0.0085 - val_mae: 0.0700\n",
      "Epoch 35/100\n",
      "183/183 [==============================] - 1s 7ms/step - loss: 0.0087 - mae: 0.0723 - val_loss: 0.0086 - val_mae: 0.0711\n",
      "Epoch 36/100\n",
      "183/183 [==============================] - 2s 9ms/step - loss: 0.0085 - mae: 0.0711 - val_loss: 0.0086 - val_mae: 0.0719\n",
      "Epoch 37/100\n",
      "183/183 [==============================] - 1s 8ms/step - loss: 0.0083 - mae: 0.0705 - val_loss: 0.0082 - val_mae: 0.0694\n",
      "Epoch 38/100\n",
      "183/183 [==============================] - 1s 8ms/step - loss: 0.0084 - mae: 0.0710 - val_loss: 0.0122 - val_mae: 0.0896\n",
      "Epoch 39/100\n",
      "183/183 [==============================] - 1s 8ms/step - loss: 0.0084 - mae: 0.0710 - val_loss: 0.0137 - val_mae: 0.0970\n",
      "Epoch 40/100\n",
      "183/183 [==============================] - 1s 7ms/step - loss: 0.0086 - mae: 0.0718 - val_loss: 0.0091 - val_mae: 0.0739\n",
      "Epoch 41/100\n",
      "183/183 [==============================] - 1s 8ms/step - loss: 0.0088 - mae: 0.0724 - val_loss: 0.0085 - val_mae: 0.0712\n",
      "Epoch 42/100\n",
      "183/183 [==============================] - 1s 8ms/step - loss: 0.0089 - mae: 0.0733 - val_loss: 0.0101 - val_mae: 0.0795\n",
      "Epoch 43/100\n",
      "183/183 [==============================] - 1s 8ms/step - loss: 0.0087 - mae: 0.0724 - val_loss: 0.0136 - val_mae: 0.0944\n",
      "Epoch 44/100\n",
      "183/183 [==============================] - 1s 7ms/step - loss: 0.0090 - mae: 0.0733 - val_loss: 0.0100 - val_mae: 0.0798\n",
      "Epoch 45/100\n",
      "183/183 [==============================] - 1s 7ms/step - loss: 0.0084 - mae: 0.0711 - val_loss: 0.0085 - val_mae: 0.0723\n",
      "Epoch 46/100\n",
      "183/183 [==============================] - 1s 8ms/step - loss: 0.0083 - mae: 0.0706 - val_loss: 0.0083 - val_mae: 0.0691\n",
      "Epoch 47/100\n",
      "183/183 [==============================] - 1s 7ms/step - loss: 0.0093 - mae: 0.0754 - val_loss: 0.0102 - val_mae: 0.0779\n",
      "Epoch 48/100\n",
      "183/183 [==============================] - 1s 7ms/step - loss: 0.0092 - mae: 0.0747 - val_loss: 0.0096 - val_mae: 0.0754\n",
      "Epoch 49/100\n",
      "183/183 [==============================] - 1s 8ms/step - loss: 0.0088 - mae: 0.0728 - val_loss: 0.0087 - val_mae: 0.0712\n",
      "Epoch 50/100\n",
      "183/183 [==============================] - 1s 7ms/step - loss: 0.0093 - mae: 0.0749 - val_loss: 0.0081 - val_mae: 0.0690\n",
      "Epoch 51/100\n",
      "183/183 [==============================] - 1s 8ms/step - loss: 0.0082 - mae: 0.0695 - val_loss: 0.0088 - val_mae: 0.0715\n",
      "Epoch 52/100\n",
      "183/183 [==============================] - 1s 7ms/step - loss: 0.0087 - mae: 0.0721 - val_loss: 0.0087 - val_mae: 0.0728\n",
      "Epoch 53/100\n",
      "183/183 [==============================] - 1s 8ms/step - loss: 0.0092 - mae: 0.0745 - val_loss: 0.0086 - val_mae: 0.0705\n",
      "Epoch 54/100\n",
      "183/183 [==============================] - 1s 7ms/step - loss: 0.0084 - mae: 0.0709 - val_loss: 0.0096 - val_mae: 0.0768\n",
      "Epoch 55/100\n",
      "183/183 [==============================] - 1s 7ms/step - loss: 0.0083 - mae: 0.0703 - val_loss: 0.0092 - val_mae: 0.0733\n",
      "Epoch 56/100\n",
      "183/183 [==============================] - 1s 8ms/step - loss: 0.0086 - mae: 0.0721 - val_loss: 0.0115 - val_mae: 0.0866\n",
      "Epoch 57/100\n",
      "183/183 [==============================] - 1s 7ms/step - loss: 0.0088 - mae: 0.0729 - val_loss: 0.0091 - val_mae: 0.0745\n",
      "Epoch 58/100\n",
      "183/183 [==============================] - 1s 7ms/step - loss: 0.0089 - mae: 0.0735 - val_loss: 0.0080 - val_mae: 0.0679\n",
      "Epoch 59/100\n",
      "183/183 [==============================] - 1s 7ms/step - loss: 0.0089 - mae: 0.0733 - val_loss: 0.0082 - val_mae: 0.0695\n",
      "Epoch 60/100\n",
      "183/183 [==============================] - 1s 7ms/step - loss: 0.0094 - mae: 0.0753 - val_loss: 0.0107 - val_mae: 0.0835\n",
      "Epoch 61/100\n",
      "183/183 [==============================] - 1s 8ms/step - loss: 0.0087 - mae: 0.0724 - val_loss: 0.0110 - val_mae: 0.0816\n",
      "Epoch 62/100\n",
      "183/183 [==============================] - 1s 7ms/step - loss: 0.0094 - mae: 0.0750 - val_loss: 0.0083 - val_mae: 0.0698\n",
      "Epoch 63/100\n",
      "183/183 [==============================] - 1s 7ms/step - loss: 0.0088 - mae: 0.0724 - val_loss: 0.0079 - val_mae: 0.0679\n",
      "Epoch 64/100\n",
      "183/183 [==============================] - 1s 8ms/step - loss: 0.0084 - mae: 0.0706 - val_loss: 0.0081 - val_mae: 0.0687\n",
      "Epoch 65/100\n",
      "183/183 [==============================] - 1s 7ms/step - loss: 0.0087 - mae: 0.0722 - val_loss: 0.0079 - val_mae: 0.0672\n",
      "Epoch 66/100\n",
      "183/183 [==============================] - 1s 8ms/step - loss: 0.0088 - mae: 0.0725 - val_loss: 0.0084 - val_mae: 0.0705\n",
      "Epoch 67/100\n",
      "183/183 [==============================] - 1s 7ms/step - loss: 0.0088 - mae: 0.0732 - val_loss: 0.0079 - val_mae: 0.0670\n",
      "Epoch 68/100\n",
      "183/183 [==============================] - 1s 8ms/step - loss: 0.0085 - mae: 0.0710 - val_loss: 0.0079 - val_mae: 0.0677\n",
      "Epoch 69/100\n",
      "183/183 [==============================] - 1s 7ms/step - loss: 0.0091 - mae: 0.0742 - val_loss: 0.0084 - val_mae: 0.0693\n",
      "Epoch 70/100\n",
      "183/183 [==============================] - 1s 7ms/step - loss: 0.0085 - mae: 0.0717 - val_loss: 0.0084 - val_mae: 0.0686\n",
      "Epoch 71/100\n",
      "183/183 [==============================] - 1s 7ms/step - loss: 0.0092 - mae: 0.0750 - val_loss: 0.0079 - val_mae: 0.0670\n",
      "Epoch 72/100\n",
      "183/183 [==============================] - 1s 7ms/step - loss: 0.0087 - mae: 0.0724 - val_loss: 0.0090 - val_mae: 0.0741\n",
      "Epoch 73/100\n",
      "183/183 [==============================] - 1s 8ms/step - loss: 0.0091 - mae: 0.0745 - val_loss: 0.0081 - val_mae: 0.0700\n",
      "Epoch 74/100\n",
      "183/183 [==============================] - 1s 7ms/step - loss: 0.0085 - mae: 0.0713 - val_loss: 0.0085 - val_mae: 0.0707\n",
      "Epoch 75/100\n",
      "183/183 [==============================] - 1s 8ms/step - loss: 0.0092 - mae: 0.0751 - val_loss: 0.0092 - val_mae: 0.0750\n",
      "Epoch 76/100\n",
      "183/183 [==============================] - 1s 7ms/step - loss: 0.0088 - mae: 0.0726 - val_loss: 0.0083 - val_mae: 0.0695\n",
      "Epoch 77/100\n",
      "183/183 [==============================] - 1s 7ms/step - loss: 0.0087 - mae: 0.0725 - val_loss: 0.0080 - val_mae: 0.0679\n",
      "Epoch 78/100\n",
      "183/183 [==============================] - 1s 8ms/step - loss: 0.0090 - mae: 0.0738 - val_loss: 0.0105 - val_mae: 0.0815\n",
      "Epoch 79/100\n",
      "183/183 [==============================] - 1s 7ms/step - loss: 0.0083 - mae: 0.0707 - val_loss: 0.0083 - val_mae: 0.0694\n",
      "Epoch 80/100\n",
      "183/183 [==============================] - 1s 8ms/step - loss: 0.0088 - mae: 0.0728 - val_loss: 0.0093 - val_mae: 0.0748\n",
      "Epoch 81/100\n",
      "183/183 [==============================] - 1s 7ms/step - loss: 0.0088 - mae: 0.0721 - val_loss: 0.0085 - val_mae: 0.0710\n",
      "Epoch 82/100\n",
      "183/183 [==============================] - 1s 8ms/step - loss: 0.0088 - mae: 0.0730 - val_loss: 0.0086 - val_mae: 0.0723\n",
      "Epoch 83/100\n",
      "183/183 [==============================] - 1s 7ms/step - loss: 0.0084 - mae: 0.0703 - val_loss: 0.0129 - val_mae: 0.0887\n",
      "Epoch 84/100\n",
      "183/183 [==============================] - 1s 7ms/step - loss: 0.0096 - mae: 0.0769 - val_loss: 0.0083 - val_mae: 0.0698\n",
      "Epoch 85/100\n",
      "183/183 [==============================] - 1s 8ms/step - loss: 0.0086 - mae: 0.0716 - val_loss: 0.0084 - val_mae: 0.0697\n",
      "Epoch 86/100\n",
      "183/183 [==============================] - 1s 7ms/step - loss: 0.0084 - mae: 0.0708 - val_loss: 0.0083 - val_mae: 0.0699\n",
      "Epoch 87/100\n",
      "183/183 [==============================] - 1s 8ms/step - loss: 0.0090 - mae: 0.0738 - val_loss: 0.0089 - val_mae: 0.0741\n",
      "Epoch 88/100\n",
      "183/183 [==============================] - 1s 7ms/step - loss: 0.0085 - mae: 0.0714 - val_loss: 0.0079 - val_mae: 0.0669\n",
      "Epoch 89/100\n",
      "183/183 [==============================] - 1s 8ms/step - loss: 0.0085 - mae: 0.0710 - val_loss: 0.0113 - val_mae: 0.0845\n",
      "Epoch 90/100\n",
      "183/183 [==============================] - 1s 8ms/step - loss: 0.0089 - mae: 0.0736 - val_loss: 0.0082 - val_mae: 0.0688\n",
      "Epoch 91/100\n",
      "183/183 [==============================] - 1s 7ms/step - loss: 0.0089 - mae: 0.0733 - val_loss: 0.0087 - val_mae: 0.0713\n",
      "Epoch 92/100\n",
      "183/183 [==============================] - 1s 8ms/step - loss: 0.0089 - mae: 0.0733 - val_loss: 0.0101 - val_mae: 0.0788\n",
      "Epoch 93/100\n",
      "183/183 [==============================] - 1s 7ms/step - loss: 0.0087 - mae: 0.0721 - val_loss: 0.0086 - val_mae: 0.0715\n",
      "Epoch 94/100\n",
      "183/183 [==============================] - 1s 8ms/step - loss: 0.0089 - mae: 0.0731 - val_loss: 0.0088 - val_mae: 0.0708\n",
      "Epoch 95/100\n",
      "183/183 [==============================] - 1s 7ms/step - loss: 0.0085 - mae: 0.0710 - val_loss: 0.0097 - val_mae: 0.0786\n",
      "Epoch 96/100\n",
      "183/183 [==============================] - 1s 8ms/step - loss: 0.0085 - mae: 0.0713 - val_loss: 0.0090 - val_mae: 0.0728\n",
      "Epoch 97/100\n",
      "183/183 [==============================] - 1s 7ms/step - loss: 0.0091 - mae: 0.0745 - val_loss: 0.0083 - val_mae: 0.0712\n",
      "Epoch 98/100\n",
      "183/183 [==============================] - 1s 8ms/step - loss: 0.0089 - mae: 0.0734 - val_loss: 0.0089 - val_mae: 0.0740\n",
      "Epoch 99/100\n",
      "183/183 [==============================] - 1s 7ms/step - loss: 0.0088 - mae: 0.0729 - val_loss: 0.0086 - val_mae: 0.0718\n",
      "Epoch 100/100\n",
      "183/183 [==============================] - 1s 7ms/step - loss: 0.0084 - mae: 0.0705 - val_loss: 0.0105 - val_mae: 0.0812\n"
     ]
    },
    {
     "data": {
      "text/plain": [
       "<keras.callbacks.History at 0x29d478af0>"
      ]
     },
     "execution_count": 21,
     "metadata": {},
     "output_type": "execute_result"
    }
   ],
   "source": [
    "model.fit(x=x_train_ann, y=y_train, validation_data=(x_test_ann, y_test), epochs=100)"
   ]
  },
  {
   "cell_type": "code",
   "execution_count": 22,
   "metadata": {},
   "outputs": [
    {
     "data": {
      "text/plain": [
       "[<matplotlib.lines.Line2D at 0x2c3fc0430>]"
      ]
     },
     "execution_count": 22,
     "metadata": {},
     "output_type": "execute_result"
    },
    {
     "data": {
      "image/png": "[encoded data removed]",
      "text/plain": [
       "<Figure size 640x480 with 1 Axes>"
      ]
     },
     "metadata": {},
     "output_type": "display_data"
    }
   ],
   "source": [
    "import matplotlib.pyplot as plt\n",
    "\n",
    "plt.plot(model.history.history['loss'])\n",
    "plt.plot(model.history.history['val_loss'])"
   ]
  },
  {
   "cell_type": "code",
   "execution_count": 23,
   "metadata": {},
   "outputs": [
    {
     "data": {
      "text/plain": [
       "array([[0.46551724],\n",
       "       [0.46551724],\n",
       "       [0.62068966],\n",
       "       ...,\n",
       "       [0.72413793],\n",
       "       [0.51724138],\n",
       "       [0.63793103]])"
      ]
     },
     "execution_count": 23,
     "metadata": {},
     "output_type": "execute_result"
    }
   ],
   "source": [
    "y_test"
   ]
  },
  {
   "cell_type": "code",
   "execution_count": 24,
   "metadata": {},
   "outputs": [
    {
     "name": "stdout",
     "output_type": "stream",
     "text": [
      "66/91 [====================>.........] - ETA: 0s"
     ]
    },
    {
     "name": "stderr",
     "output_type": "stream",
     "text": [
      "2023-02-25 09:04:57.012780: I tensorflow/core/grappler/optimizers/custom_graph_optimizer_registry.cc:113] Plugin optimizer for device_type GPU is enabled.\n"
     ]
    },
    {
     "name": "stdout",
     "output_type": "stream",
     "text": [
      "91/91 [==============================] - 0s 2ms/step\n"
     ]
    }
   ],
   "source": [
    "y_pred_test = model.predict(x_test_ann)"
   ]
  },
  {
   "cell_type": "code",
   "execution_count": 25,
   "metadata": {},
   "outputs": [
    {
     "data": {
      "text/plain": [
       "array([[0.58056355],\n",
       "       [0.59639347],\n",
       "       [0.6452811 ],\n",
       "       ...,\n",
       "       [0.74309117],\n",
       "       [0.58081   ],\n",
       "       [0.6084405 ]], dtype=float32)"
      ]
     },
     "execution_count": 25,
     "metadata": {},
     "output_type": "execute_result"
    }
   ],
   "source": [
    "y_pred_test"
   ]
  },
  {
   "cell_type": "code",
   "execution_count": 26,
   "metadata": {},
   "outputs": [
    {
     "data": {
      "text/plain": [
       "array([[83.67269],\n",
       "       [84.59082],\n",
       "       [87.42631],\n",
       "       ...,\n",
       "       [93.09929],\n",
       "       [83.68698],\n",
       "       [85.28955]], dtype=float32)"
      ]
     },
     "execution_count": 26,
     "metadata": {},
     "output_type": "execute_result"
    }
   ],
   "source": [
    "y_pred_unscaled = y_scalar.inverse_transform(y_pred_test)\n",
    "y_pred_unscaled"
   ]
  },
  {
   "cell_type": "code",
   "execution_count": 27,
   "metadata": {},
   "outputs": [
    {
     "data": {
      "text/plain": [
       "array([[77.],\n",
       "       [77.],\n",
       "       [86.],\n",
       "       ...,\n",
       "       [92.],\n",
       "       [80.],\n",
       "       [87.]])"
      ]
     },
     "execution_count": 27,
     "metadata": {},
     "output_type": "execute_result"
    }
   ],
   "source": [
    "y_test_unscaled = y_scalar.inverse_transform(y_test)\n",
    "y_test_unscaled"
   ]
  },
  {
   "cell_type": "code",
   "execution_count": 30,
   "metadata": {},
   "outputs": [
    {
     "data": {
      "text/html": [
       "<div>\n",
       "<style scoped>\n",
       "    .dataframe tbody tr th:only-of-type {\n",
       "        vertical-align: middle;\n",
       "    }\n",
       "\n",
       "    .dataframe tbody tr th {\n",
       "        vertical-align: top;\n",
       "    }\n",
       "\n",
       "    .dataframe thead th {\n",
       "        text-align: right;\n",
       "    }\n",
       "</style>\n",
       "<table border=\"1\" class=\"dataframe\">\n",
       "  <thead>\n",
       "    <tr style=\"text-align: right;\">\n",
       "      <th></th>\n",
       "      <th>y_test</th>\n",
       "      <th>y_pred</th>\n",
       "    </tr>\n",
       "  </thead>\n",
       "  <tbody>\n",
       "    <tr>\n",
       "      <th>0</th>\n",
       "      <td>[77.0]</td>\n",
       "      <td>[83.67269]</td>\n",
       "    </tr>\n",
       "    <tr>\n",
       "      <th>1</th>\n",
       "      <td>[77.0]</td>\n",
       "      <td>[84.59082]</td>\n",
       "    </tr>\n",
       "    <tr>\n",
       "      <th>2</th>\n",
       "      <td>[86.0]</td>\n",
       "      <td>[87.42631]</td>\n",
       "    </tr>\n",
       "    <tr>\n",
       "      <th>3</th>\n",
       "      <td>[71.0]</td>\n",
       "      <td>[72.297386]</td>\n",
       "    </tr>\n",
       "    <tr>\n",
       "      <th>4</th>\n",
       "      <td>[70.0]</td>\n",
       "      <td>[80.55036]</td>\n",
       "    </tr>\n",
       "    <tr>\n",
       "      <th>...</th>\n",
       "      <td>...</td>\n",
       "      <td>...</td>\n",
       "    </tr>\n",
       "    <tr>\n",
       "      <th>2878</th>\n",
       "      <td>[81.0]</td>\n",
       "      <td>[87.902016]</td>\n",
       "    </tr>\n",
       "    <tr>\n",
       "      <th>2879</th>\n",
       "      <td>[104.0]</td>\n",
       "      <td>[91.10545]</td>\n",
       "    </tr>\n",
       "    <tr>\n",
       "      <th>2880</th>\n",
       "      <td>[92.0]</td>\n",
       "      <td>[93.09929]</td>\n",
       "    </tr>\n",
       "    <tr>\n",
       "      <th>2881</th>\n",
       "      <td>[80.0]</td>\n",
       "      <td>[83.68698]</td>\n",
       "    </tr>\n",
       "    <tr>\n",
       "      <th>2882</th>\n",
       "      <td>[87.0]</td>\n",
       "      <td>[85.28955]</td>\n",
       "    </tr>\n",
       "  </tbody>\n",
       "</table>\n",
       "<p>2883 rows × 2 columns</p>\n",
       "</div>"
      ],
      "text/plain": [
       "       y_test       y_pred\n",
       "0      [77.0]   [83.67269]\n",
       "1      [77.0]   [84.59082]\n",
       "2      [86.0]   [87.42631]\n",
       "3      [71.0]  [72.297386]\n",
       "4      [70.0]   [80.55036]\n",
       "...       ...          ...\n",
       "2878   [81.0]  [87.902016]\n",
       "2879  [104.0]   [91.10545]\n",
       "2880   [92.0]   [93.09929]\n",
       "2881   [80.0]   [83.68698]\n",
       "2882   [87.0]   [85.28955]\n",
       "\n",
       "[2883 rows x 2 columns]"
      ]
     },
     "execution_count": 30,
     "metadata": {},
     "output_type": "execute_result"
    }
   ],
   "source": [
    "pd.DataFrame(data={\n",
    "    \"y_test\" : list(y_test_unscaled),\n",
    "    \"y_pred\" : list(y_pred_unscaled)\n",
    "})"
   ]
  },
  {
   "cell_type": "code",
   "execution_count": 35,
   "metadata": {},
   "outputs": [
    {
     "name": "stdout",
     "output_type": "stream",
     "text": [
      "[0.48275862]\n",
      "1/1 [==============================] - 0s 16ms/step\n"
     ]
    },
    {
     "data": {
      "text/plain": [
       "0.4140078"
      ]
     },
     "execution_count": 35,
     "metadata": {},
     "output_type": "execute_result"
    }
   ],
   "source": [
    "i = 5675\n",
    "print(y_train[i])\n",
    "single_pred = model.predict(rbf._out_mat[i].reshape((1, 4)))[0][0]\n",
    "single_pred"
   ]
  },
  {
   "cell_type": "code",
   "execution_count": 41,
   "metadata": {},
   "outputs": [
    {
     "data": {
      "text/plain": [
       "array([[74.01245314]])"
      ]
     },
     "execution_count": 41,
     "metadata": {},
     "output_type": "execute_result"
    }
   ],
   "source": [
    "y_scalar.inverse_transform([[single_pred]])"
   ]
  },
  {
   "cell_type": "code",
   "execution_count": 47,
   "metadata": {},
   "outputs": [
    {
     "data": {
      "text/plain": [
       "array([[78.]])"
      ]
     },
     "execution_count": 47,
     "metadata": {},
     "output_type": "execute_result"
    }
   ],
   "source": []
  },
  {
   "cell_type": "code",
   "execution_count": 48,
   "metadata": {},
   "outputs": [
    {
     "name": "stdout",
     "output_type": "stream",
     "text": [
      "\n",
      "      Actual: [[78.]]\n",
      "      Predicted: [[74.01245314]]\n",
      "      \n"
     ]
    }
   ],
   "source": [
    "actual = y_scalar.inverse_transform([[y_train[i][0]]])\n",
    "predicted = y_scalar.inverse_transform([[single_pred]])\n",
    "\n",
    "print(f\"\"\"\n",
    "      Actual: {actual}\n",
    "      Predicted: {predicted}\n",
    "      \"\"\")"
   ]
  },
  {
   "cell_type": "code",
   "execution_count": 49,
   "metadata": {},
   "outputs": [
    {
     "data": {
      "text/plain": [
       "0.010538568493032701"
      ]
     },
     "execution_count": 49,
     "metadata": {},
     "output_type": "execute_result"
    }
   ],
   "source": [
    "from sklearn.metrics import mean_squared_error\n",
    "\n",
    "mean_squared_error(y_test, y_pred_test)"
   ]
  }
 ],
 "metadata": {
  "kernelspec": {
   "display_name": "base",
   "language": "python",
   "name": "python3"
  },
  "language_info": {
   "codemirror_mode": {
    "name": "ipython",
    "version": 3
   },
   "file_extension": ".py",
   "mimetype": "text/x-python",
   "name": "python",
   "nbconvert_exporter": "python",
   "pygments_lexer": "ipython3",
   "version": "3.9.12"
  },
  "orig_nbformat": 4,
  "vscode": {
   "interpreter": {
    "hash": "3d597f4c481aa0f25dceb95d2a0067e73c0966dcbd003d741d821a7208527ecf"
   }
  }
 },
 "nbformat": 4,
 "nbformat_minor": 2
}
